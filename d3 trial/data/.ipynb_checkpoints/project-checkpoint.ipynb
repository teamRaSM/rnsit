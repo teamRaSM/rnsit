{
 "cells": [
  {
   "cell_type": "markdown",
   "metadata": {
    "collapsed": true,
    "deletable": true,
    "editable": true
   },
   "source": [
    "# Analysis of Titanic dataset prior to D3 Visualisation "
   ]
  },
  {
   "cell_type": "code",
   "execution_count": 1,
   "metadata": {
    "collapsed": true,
    "deletable": true,
    "editable": true
   },
   "outputs": [],
   "source": [
    "import pandas as pd\n",
    "import csv"
   ]
  },
  {
   "cell_type": "markdown",
   "metadata": {
    "collapsed": true,
    "deletable": true,
    "editable": true
   },
   "source": [
    "## Load data from CSV"
   ]
  },
  {
   "cell_type": "code",
   "execution_count": 57,
   "metadata": {
    "collapsed": false,
    "deletable": true,
    "editable": true
   },
   "outputs": [],
   "source": [
    "titanic_df=pd.read_csv('titanic_data.csv')"
   ]
  },
  {
   "cell_type": "markdown",
   "metadata": {
    "deletable": true,
    "editable": true
   },
   "source": [
    "## Data Cleaning \n",
    "- We realise that there are redundant columns in the dataframe which may not be useful for analysis\n",
    "- Store a copy of the data frame before cleaning it. The columns which we feel not necessary now might be required later.\n",
    "- The Ticket column here is redundant, as it doesn't really serve the need for any analysis\n",
    "- The Cabin column also seems redundant"
   ]
  },
  {
   "cell_type": "code",
   "execution_count": 58,
   "metadata": {
    "collapsed": false,
    "deletable": true,
    "editable": true
   },
   "outputs": [],
   "source": [
    "titanic_backup = titanic_df.copy()             \n",
    "del titanic_df['Ticket']\n",
    "del titanic_df['Cabin']\n",
    "\n",
    "def state(st):\n",
    "    if st==1:\n",
    "        return \"Survived\"\n",
    "    else:\n",
    "        return \"Dead\"\n",
    "titanic_df['State']=titanic_df['Survived'].apply(state)  "
   ]
  },
  {
   "cell_type": "markdown",
   "metadata": {
    "deletable": true,
    "editable": true
   },
   "source": [
    "- The survival rate clearly tells that much more then 50% of the passengers (i.e, 61.6%) died during the tragedy. "
   ]
  },
  {
   "cell_type": "code",
   "execution_count": 19,
   "metadata": {
    "collapsed": true,
    "deletable": true,
    "editable": true
   },
   "outputs": [],
   "source": [
    "# A function to group the data in the data frame upon the specified column\n",
    "def group_my_data(group_by,data_frame):\n",
    "    total_count_for_group = data_frame.groupby(group_by).count()['PassengerId']\n",
    "    total_survival = data_frame.groupby(group_by).sum()['Survived']\n",
    "    return (total_survival,total_count_for_group)"
   ]
  },
  {
   "cell_type": "markdown",
   "metadata": {
    "collapsed": true,
    "deletable": true,
    "editable": true
   },
   "source": [
    "## 1. Survival Rate\n",
    "- Survival rate is total number of survivals/total number of passengers expressed in percentage."
   ]
  },
  {
   "cell_type": "code",
   "execution_count": 79,
   "metadata": {
    "collapsed": false,
    "deletable": true,
    "editable": true
   },
   "outputs": [
    {
     "data": {
      "text/html": [
       "<div>\n",
       "<table border=\"1\" class=\"dataframe\">\n",
       "  <thead>\n",
       "    <tr style=\"text-align: right;\">\n",
       "      <th></th>\n",
       "      <th>Percentage</th>\n",
       "    </tr>\n",
       "    <tr>\n",
       "      <th>State</th>\n",
       "      <th></th>\n",
       "    </tr>\n",
       "  </thead>\n",
       "  <tbody>\n",
       "    <tr>\n",
       "      <th>Dead</th>\n",
       "      <td>61</td>\n",
       "    </tr>\n",
       "    <tr>\n",
       "      <th>Survived</th>\n",
       "      <td>38</td>\n",
       "    </tr>\n",
       "  </tbody>\n",
       "</table>\n",
       "</div>"
      ],
      "text/plain": [
       "          Percentage\n",
       "State               \n",
       "Dead              61\n",
       "Survived          38"
      ]
     },
     "execution_count": 79,
     "metadata": {},
     "output_type": "execute_result"
    }
   ],
   "source": [
    "sur,dead=group_my_data('State',titanic_df)\n",
    "a=dead[0]\n",
    "b=dead[1]\n",
    "dead[0]=a*100/(a+b)\n",
    "dead[1]=b*100/(a+b)\n",
    "survival=pd.concat([dead],axis=1,keys=['Percentage'])\n",
    "survival"
   ]
  },
  {
   "cell_type": "code",
   "execution_count": 80,
   "metadata": {
    "collapsed": true
   },
   "outputs": [],
   "source": [
    "survival.to_csv('survival.csv', sep=',')"
   ]
  },
  {
   "cell_type": "markdown",
   "metadata": {
    "collapsed": true,
    "deletable": true,
    "editable": true
   },
   "source": [
    "## 2 : Effect of Class"
   ]
  },
  {
   "cell_type": "code",
   "execution_count": 12,
   "metadata": {
    "collapsed": false,
    "deletable": true,
    "editable": true
   },
   "outputs": [
    {
     "data": {
      "text/html": [
       "<div>\n",
       "<table border=\"1\" class=\"dataframe\">\n",
       "  <thead>\n",
       "    <tr style=\"text-align: right;\">\n",
       "      <th></th>\n",
       "      <th>Survival Count</th>\n",
       "      <th>Death Count</th>\n",
       "      <th>Total Count</th>\n",
       "      <th>Percentage</th>\n",
       "    </tr>\n",
       "    <tr>\n",
       "      <th>Pclass</th>\n",
       "      <th></th>\n",
       "      <th></th>\n",
       "      <th></th>\n",
       "      <th></th>\n",
       "    </tr>\n",
       "  </thead>\n",
       "  <tbody>\n",
       "    <tr>\n",
       "      <th>1</th>\n",
       "      <td>136</td>\n",
       "      <td>80</td>\n",
       "      <td>216</td>\n",
       "      <td>62.962963</td>\n",
       "    </tr>\n",
       "    <tr>\n",
       "      <th>2</th>\n",
       "      <td>87</td>\n",
       "      <td>97</td>\n",
       "      <td>184</td>\n",
       "      <td>47.282609</td>\n",
       "    </tr>\n",
       "    <tr>\n",
       "      <th>3</th>\n",
       "      <td>119</td>\n",
       "      <td>372</td>\n",
       "      <td>491</td>\n",
       "      <td>24.236253</td>\n",
       "    </tr>\n",
       "  </tbody>\n",
       "</table>\n",
       "</div>"
      ],
      "text/plain": [
       "        Survival Count  Death Count  Total Count  Percentage\n",
       "Pclass                                                      \n",
       "1                  136           80          216   62.962963\n",
       "2                   87           97          184   47.282609\n",
       "3                  119          372          491   24.236253"
      ]
     },
     "execution_count": 12,
     "metadata": {},
     "output_type": "execute_result"
    }
   ],
   "source": [
    "class_sur, class_tot = group_my_data('Pclass',titanic_df)\n",
    "survival_wrt_class=(class_sur/class_tot)*100\n",
    "class_dead=class_tot-class_sur\n",
    "survival_wrt_class=pd.concat([class_sur,class_dead,class_tot,survival_wrt_class],axis=1,keys=['Survival Count','Death Count','Total Count','Percentage'])\n",
    "survival_wrt_class"
   ]
  },
  {
   "cell_type": "code",
   "execution_count": 13,
   "metadata": {
    "collapsed": false,
    "deletable": true,
    "editable": true
   },
   "outputs": [],
   "source": [
    "survival_wrt_class.to_csv('survival_wrt_class.csv', sep=',')"
   ]
  },
  {
   "cell_type": "markdown",
   "metadata": {
    "deletable": true,
    "editable": true
   },
   "source": [
    "- The results clearly specify that most of the 1st class passengers were saved.\n",
    "- That wasn't the case with 2nd and 3rd class. Less than 50% of them were saved."
   ]
  },
  {
   "cell_type": "markdown",
   "metadata": {
    "collapsed": true,
    "deletable": true,
    "editable": true
   },
   "source": [
    "## 3 : Effect of Sex"
   ]
  },
  {
   "cell_type": "code",
   "execution_count": 14,
   "metadata": {
    "collapsed": false,
    "deletable": true,
    "editable": true
   },
   "outputs": [
    {
     "data": {
      "text/html": [
       "<div>\n",
       "<table border=\"1\" class=\"dataframe\">\n",
       "  <thead>\n",
       "    <tr style=\"text-align: right;\">\n",
       "      <th></th>\n",
       "      <th>Survival Count</th>\n",
       "      <th>Death Count</th>\n",
       "      <th>Total Count</th>\n",
       "      <th>Percentage</th>\n",
       "    </tr>\n",
       "    <tr>\n",
       "      <th>Sex</th>\n",
       "      <th></th>\n",
       "      <th></th>\n",
       "      <th></th>\n",
       "      <th></th>\n",
       "    </tr>\n",
       "  </thead>\n",
       "  <tbody>\n",
       "    <tr>\n",
       "      <th>female</th>\n",
       "      <td>233</td>\n",
       "      <td>81</td>\n",
       "      <td>314</td>\n",
       "      <td>74.203822</td>\n",
       "    </tr>\n",
       "    <tr>\n",
       "      <th>male</th>\n",
       "      <td>109</td>\n",
       "      <td>468</td>\n",
       "      <td>577</td>\n",
       "      <td>18.890815</td>\n",
       "    </tr>\n",
       "  </tbody>\n",
       "</table>\n",
       "</div>"
      ],
      "text/plain": [
       "        Survival Count  Death Count  Total Count  Percentage\n",
       "Sex                                                         \n",
       "female             233           81          314   74.203822\n",
       "male               109          468          577   18.890815"
      ]
     },
     "execution_count": 14,
     "metadata": {},
     "output_type": "execute_result"
    }
   ],
   "source": [
    "sex_sur, sex_tot = group_my_data('Sex',titanic_df)\n",
    "survival_wrt_sex=(sex_sur/sex_tot)*100\n",
    "sex_dead=sex_tot-sex_sur\n",
    "survival_wrt_sex=pd.concat([sex_sur,sex_dead,sex_tot,survival_wrt_sex],axis=1,keys=['Survival Count','Death Count','Total Count','Percentage'])\n",
    "survival_wrt_sex"
   ]
  },
  {
   "cell_type": "code",
   "execution_count": 15,
   "metadata": {
    "collapsed": false,
    "deletable": true,
    "editable": true
   },
   "outputs": [],
   "source": [
    "survival_wrt_sex.to_csv('survival_wrt_sex.csv', sep=',')"
   ]
  },
  {
   "cell_type": "markdown",
   "metadata": {
    "deletable": true,
    "editable": true
   },
   "source": [
    "- The results imply that majority of the women were saved (around 3/4th of the women passengers were saved)\n",
    "- Only 18.9% of the male passengers were saved"
   ]
  },
  {
   "cell_type": "markdown",
   "metadata": {
    "deletable": true,
    "editable": true
   },
   "source": [
    "## 4 : Combined effect of Sex and Class on survival"
   ]
  },
  {
   "cell_type": "code",
   "execution_count": 16,
   "metadata": {
    "collapsed": false,
    "deletable": true,
    "editable": true
   },
   "outputs": [
    {
     "data": {
      "text/html": [
       "<div>\n",
       "<table border=\"1\" class=\"dataframe\">\n",
       "  <thead>\n",
       "    <tr style=\"text-align: right;\">\n",
       "      <th></th>\n",
       "      <th></th>\n",
       "      <th>Survival Count</th>\n",
       "      <th>Death Count</th>\n",
       "      <th>Total Count</th>\n",
       "      <th>Percentage</th>\n",
       "    </tr>\n",
       "    <tr>\n",
       "      <th>Sex</th>\n",
       "      <th>Pclass</th>\n",
       "      <th></th>\n",
       "      <th></th>\n",
       "      <th></th>\n",
       "      <th></th>\n",
       "    </tr>\n",
       "  </thead>\n",
       "  <tbody>\n",
       "    <tr>\n",
       "      <th rowspan=\"3\" valign=\"top\">female</th>\n",
       "      <th>1</th>\n",
       "      <td>91</td>\n",
       "      <td>3</td>\n",
       "      <td>94</td>\n",
       "      <td>96.808511</td>\n",
       "    </tr>\n",
       "    <tr>\n",
       "      <th>2</th>\n",
       "      <td>70</td>\n",
       "      <td>6</td>\n",
       "      <td>76</td>\n",
       "      <td>92.105263</td>\n",
       "    </tr>\n",
       "    <tr>\n",
       "      <th>3</th>\n",
       "      <td>72</td>\n",
       "      <td>72</td>\n",
       "      <td>144</td>\n",
       "      <td>50.000000</td>\n",
       "    </tr>\n",
       "    <tr>\n",
       "      <th rowspan=\"3\" valign=\"top\">male</th>\n",
       "      <th>1</th>\n",
       "      <td>45</td>\n",
       "      <td>77</td>\n",
       "      <td>122</td>\n",
       "      <td>36.885246</td>\n",
       "    </tr>\n",
       "    <tr>\n",
       "      <th>2</th>\n",
       "      <td>17</td>\n",
       "      <td>91</td>\n",
       "      <td>108</td>\n",
       "      <td>15.740741</td>\n",
       "    </tr>\n",
       "    <tr>\n",
       "      <th>3</th>\n",
       "      <td>47</td>\n",
       "      <td>300</td>\n",
       "      <td>347</td>\n",
       "      <td>13.544669</td>\n",
       "    </tr>\n",
       "  </tbody>\n",
       "</table>\n",
       "</div>"
      ],
      "text/plain": [
       "               Survival Count  Death Count  Total Count  Percentage\n",
       "Sex    Pclass                                                      \n",
       "female 1                   91            3           94   96.808511\n",
       "       2                   70            6           76   92.105263\n",
       "       3                   72           72          144   50.000000\n",
       "male   1                   45           77          122   36.885246\n",
       "       2                   17           91          108   15.740741\n",
       "       3                   47          300          347   13.544669"
      ]
     },
     "execution_count": 16,
     "metadata": {},
     "output_type": "execute_result"
    }
   ],
   "source": [
    "total_sex_class_count = titanic_df.groupby(['Sex','Pclass']).count()['PassengerId']\n",
    "sex_class_survival = titanic_df.groupby(['Sex','Pclass']).sum()['Survived']\n",
    "sex_class_survival_rate = (sex_class_survival/total_sex_class_count)*100\n",
    "sex_class_dead=total_sex_class_count-sex_class_survival\n",
    "sex_class_survival_rate=pd.concat([sex_class_survival,sex_class_dead,total_sex_class_count,sex_class_survival_rate],axis=1,keys=['Survival Count','Death Count','Total Count','Percentage'])\n",
    "sex_class_survival_rate"
   ]
  },
  {
   "cell_type": "code",
   "execution_count": 17,
   "metadata": {
    "collapsed": false,
    "deletable": true,
    "editable": true
   },
   "outputs": [],
   "source": [
    "sex_class_survival_rate.to_csv('survival_wrt_sex_class.csv', sep=',')"
   ]
  },
  {
   "cell_type": "markdown",
   "metadata": {
    "deletable": true,
    "editable": true
   },
   "source": [
    "- 6 pie charts explain the survival scenarios of male and female from different classes of the society. \n",
    "- Female from 1st, 2nd and 3rd class were saved on a greater ratio with respect to males from the corresponding class. \n",
    "- But as the class went from 1st to 3rd the survival rate of male/female in that class also came down"
   ]
  },
  {
   "cell_type": "markdown",
   "metadata": {
    "deletable": true,
    "editable": true
   },
   "source": [
    "# 5. Survival based on Age Group"
   ]
  },
  {
   "cell_type": "code",
   "execution_count": 18,
   "metadata": {
    "collapsed": true,
    "deletable": true,
    "editable": true
   },
   "outputs": [],
   "source": [
    "tit_temp=titanic_df.copy()"
   ]
  },
  {
   "cell_type": "code",
   "execution_count": 19,
   "metadata": {
    "collapsed": false,
    "deletable": true,
    "editable": true
   },
   "outputs": [],
   "source": [
    "def age_group(age):\n",
    "    if age<=15:\n",
    "        return '0-15'\n",
    "    elif age<=30:\n",
    "        return '16-30'\n",
    "    elif age<=45:\n",
    "        return '31-45'\n",
    "    elif age<=60:\n",
    "        return '46-60'\n",
    "    elif age>60:\n",
    "        return '60+'\n",
    "    else:\n",
    "        return 'NA'"
   ]
  },
  {
   "cell_type": "code",
   "execution_count": 20,
   "metadata": {
    "collapsed": false,
    "deletable": true,
    "editable": true
   },
   "outputs": [
    {
     "data": {
      "text/html": [
       "<div>\n",
       "<table border=\"1\" class=\"dataframe\">\n",
       "  <thead>\n",
       "    <tr style=\"text-align: right;\">\n",
       "      <th></th>\n",
       "      <th>Survival Count</th>\n",
       "      <th>Death Count</th>\n",
       "      <th>Total Count</th>\n",
       "      <th>Percentage</th>\n",
       "    </tr>\n",
       "    <tr>\n",
       "      <th>Age_Group</th>\n",
       "      <th></th>\n",
       "      <th></th>\n",
       "      <th></th>\n",
       "      <th></th>\n",
       "    </tr>\n",
       "  </thead>\n",
       "  <tbody>\n",
       "    <tr>\n",
       "      <th>0-15</th>\n",
       "      <td>49</td>\n",
       "      <td>34</td>\n",
       "      <td>83</td>\n",
       "      <td>59.036145</td>\n",
       "    </tr>\n",
       "    <tr>\n",
       "      <th>16-30</th>\n",
       "      <td>117</td>\n",
       "      <td>209</td>\n",
       "      <td>326</td>\n",
       "      <td>35.889571</td>\n",
       "    </tr>\n",
       "    <tr>\n",
       "      <th>31-45</th>\n",
       "      <td>86</td>\n",
       "      <td>116</td>\n",
       "      <td>202</td>\n",
       "      <td>42.574257</td>\n",
       "    </tr>\n",
       "    <tr>\n",
       "      <th>46-60</th>\n",
       "      <td>33</td>\n",
       "      <td>48</td>\n",
       "      <td>81</td>\n",
       "      <td>40.740741</td>\n",
       "    </tr>\n",
       "    <tr>\n",
       "      <th>60+</th>\n",
       "      <td>5</td>\n",
       "      <td>17</td>\n",
       "      <td>22</td>\n",
       "      <td>22.727273</td>\n",
       "    </tr>\n",
       "    <tr>\n",
       "      <th>NA</th>\n",
       "      <td>52</td>\n",
       "      <td>125</td>\n",
       "      <td>177</td>\n",
       "      <td>29.378531</td>\n",
       "    </tr>\n",
       "  </tbody>\n",
       "</table>\n",
       "</div>"
      ],
      "text/plain": [
       "           Survival Count  Death Count  Total Count  Percentage\n",
       "Age_Group                                                      \n",
       "0-15                   49           34           83   59.036145\n",
       "16-30                 117          209          326   35.889571\n",
       "31-45                  86          116          202   42.574257\n",
       "46-60                  33           48           81   40.740741\n",
       "60+                     5           17           22   22.727273\n",
       "NA                     52          125          177   29.378531"
      ]
     },
     "execution_count": 20,
     "metadata": {},
     "output_type": "execute_result"
    }
   ],
   "source": [
    "tit_temp['Age']=tit_temp['Age'].apply(age_group)\n",
    "tit_temp=tit_temp.rename(columns={'Age':'Age_Group'})\n",
    "age_sur,age_tot=group_my_data('Age_Group',tit_temp)\n",
    "survival_wrt_age=(age_sur/age_tot)*100\n",
    "age_dead=age_tot-age_sur\n",
    "survival_wrt_age=pd.concat([age_sur,age_dead,age_tot,survival_wrt_age],axis=1,keys=['Survival Count','Death Count','Total Count','Percentage'])\n",
    "survival_wrt_age"
   ]
  },
  {
   "cell_type": "code",
   "execution_count": 21,
   "metadata": {
    "collapsed": false,
    "deletable": true,
    "editable": true
   },
   "outputs": [],
   "source": [
    "survival_wrt_age.to_csv('survival_wrt_age.csv', sep=',')"
   ]
  },
  {
   "cell_type": "markdown",
   "metadata": {
    "deletable": true,
    "editable": true
   },
   "source": [
    "## Question 6 : Women and Children Survival"
   ]
  },
  {
   "cell_type": "code",
   "execution_count": 22,
   "metadata": {
    "collapsed": false,
    "deletable": true,
    "editable": true
   },
   "outputs": [],
   "source": [
    "tit_temp['Women_Child_OR_Male']= 'Male'"
   ]
  },
  {
   "cell_type": "code",
   "execution_count": 23,
   "metadata": {
    "collapsed": false,
    "deletable": true,
    "editable": true
   },
   "outputs": [],
   "source": [
    "for i in range(0,len(tit_temp)):\n",
    "    if tit_temp.loc[i,'Sex']=='female' or tit_temp.loc[i,'Age_Group']=='Child':\n",
    "        tit_temp.loc[i,'Women_Child_OR_Male']='Women_Child'"
   ]
  },
  {
   "cell_type": "code",
   "execution_count": 24,
   "metadata": {
    "collapsed": false,
    "deletable": true,
    "editable": true
   },
   "outputs": [],
   "source": [
    "chi_fem_sur, chi_fem_tot=group_my_data('Women_Child_OR_Male',tit_temp)\n",
    "survival_female_child=(chi_fem_sur/chi_fem_tot)*100\n",
    "chi_fem_dead=chi_fem_tot-chi_fem_sur\n",
    "survival_female_child=pd.concat([chi_fem_sur,chi_fem_dead,chi_fem_tot,survival_female_child],axis=1,keys=['Survival Count','Death Count','Total Count','Percentage'])"
   ]
  },
  {
   "cell_type": "code",
   "execution_count": 25,
   "metadata": {
    "collapsed": false,
    "deletable": true,
    "editable": true
   },
   "outputs": [
    {
     "data": {
      "text/html": [
       "<div>\n",
       "<table border=\"1\" class=\"dataframe\">\n",
       "  <thead>\n",
       "    <tr style=\"text-align: right;\">\n",
       "      <th></th>\n",
       "      <th>Survival Count</th>\n",
       "      <th>Death Count</th>\n",
       "      <th>Total Count</th>\n",
       "      <th>Percentage</th>\n",
       "    </tr>\n",
       "    <tr>\n",
       "      <th>Women_Child_OR_Male</th>\n",
       "      <th></th>\n",
       "      <th></th>\n",
       "      <th></th>\n",
       "      <th></th>\n",
       "    </tr>\n",
       "  </thead>\n",
       "  <tbody>\n",
       "    <tr>\n",
       "      <th>Male</th>\n",
       "      <td>109</td>\n",
       "      <td>468</td>\n",
       "      <td>577</td>\n",
       "      <td>18.890815</td>\n",
       "    </tr>\n",
       "    <tr>\n",
       "      <th>Women_Child</th>\n",
       "      <td>233</td>\n",
       "      <td>81</td>\n",
       "      <td>314</td>\n",
       "      <td>74.203822</td>\n",
       "    </tr>\n",
       "  </tbody>\n",
       "</table>\n",
       "</div>"
      ],
      "text/plain": [
       "                     Survival Count  Death Count  Total Count  Percentage\n",
       "Women_Child_OR_Male                                                      \n",
       "Male                            109          468          577   18.890815\n",
       "Women_Child                     233           81          314   74.203822"
      ]
     },
     "execution_count": 25,
     "metadata": {},
     "output_type": "execute_result"
    }
   ],
   "source": [
    "survival_female_child"
   ]
  },
  {
   "cell_type": "code",
   "execution_count": 26,
   "metadata": {
    "collapsed": true,
    "deletable": true,
    "editable": true
   },
   "outputs": [],
   "source": [
    "survival_female_child.to_csv('survival_female_child.csv', sep=',')"
   ]
  },
  {
   "cell_type": "markdown",
   "metadata": {
    "deletable": true,
    "editable": true
   },
   "source": [
    "- It is important that during any accident Women and Child first protocol is followed. \n",
    "- It was followed to a very great extent in titanic as 68.8% of the women/children were saved during the accident \n",
    "- This value is very high when comapred to only 16.6% of males (who aren't children)"
   ]
  },
  {
   "cell_type": "markdown",
   "metadata": {
    "deletable": true,
    "editable": true
   },
   "source": [
    "## 7. Effect of Family Size"
   ]
  },
  {
   "cell_type": "code",
   "execution_count": 34,
   "metadata": {
    "collapsed": false,
    "deletable": true,
    "editable": true
   },
   "outputs": [],
   "source": [
    "tit_temp['Family']=tit_temp['SibSp']+tit_temp['Parch']"
   ]
  },
  {
   "cell_type": "code",
   "execution_count": 35,
   "metadata": {
    "collapsed": true,
    "deletable": true,
    "editable": true
   },
   "outputs": [],
   "source": [
    "family_sur,family_tot = group_my_data('Family',tit_temp)\n",
    "survival_wrt_family_size=(family_sur/family_tot)*100\n",
    "family_dead=family_tot-family_sur\n",
    "survival_wrt_family_size=pd.concat([family_sur,family_dead,family_tot,survival_wrt_family_size],axis=1,keys=['Survival Count','Death Count','Total Count','Percentage'])"
   ]
  },
  {
   "cell_type": "code",
   "execution_count": 36,
   "metadata": {
    "collapsed": false,
    "deletable": true,
    "editable": true
   },
   "outputs": [
    {
     "data": {
      "text/html": [
       "<div>\n",
       "<table border=\"1\" class=\"dataframe\">\n",
       "  <thead>\n",
       "    <tr style=\"text-align: right;\">\n",
       "      <th></th>\n",
       "      <th>Survival Count</th>\n",
       "      <th>Death Count</th>\n",
       "      <th>Total Count</th>\n",
       "      <th>Percentage</th>\n",
       "    </tr>\n",
       "    <tr>\n",
       "      <th>Family</th>\n",
       "      <th></th>\n",
       "      <th></th>\n",
       "      <th></th>\n",
       "      <th></th>\n",
       "    </tr>\n",
       "  </thead>\n",
       "  <tbody>\n",
       "    <tr>\n",
       "      <th>0</th>\n",
       "      <td>163</td>\n",
       "      <td>374</td>\n",
       "      <td>537</td>\n",
       "      <td>30.353818</td>\n",
       "    </tr>\n",
       "    <tr>\n",
       "      <th>1</th>\n",
       "      <td>89</td>\n",
       "      <td>72</td>\n",
       "      <td>161</td>\n",
       "      <td>55.279503</td>\n",
       "    </tr>\n",
       "    <tr>\n",
       "      <th>2</th>\n",
       "      <td>59</td>\n",
       "      <td>43</td>\n",
       "      <td>102</td>\n",
       "      <td>57.843137</td>\n",
       "    </tr>\n",
       "    <tr>\n",
       "      <th>3</th>\n",
       "      <td>21</td>\n",
       "      <td>8</td>\n",
       "      <td>29</td>\n",
       "      <td>72.413793</td>\n",
       "    </tr>\n",
       "    <tr>\n",
       "      <th>4</th>\n",
       "      <td>3</td>\n",
       "      <td>12</td>\n",
       "      <td>15</td>\n",
       "      <td>20.000000</td>\n",
       "    </tr>\n",
       "    <tr>\n",
       "      <th>5</th>\n",
       "      <td>3</td>\n",
       "      <td>19</td>\n",
       "      <td>22</td>\n",
       "      <td>13.636364</td>\n",
       "    </tr>\n",
       "    <tr>\n",
       "      <th>6</th>\n",
       "      <td>4</td>\n",
       "      <td>8</td>\n",
       "      <td>12</td>\n",
       "      <td>33.333333</td>\n",
       "    </tr>\n",
       "    <tr>\n",
       "      <th>7</th>\n",
       "      <td>0</td>\n",
       "      <td>6</td>\n",
       "      <td>6</td>\n",
       "      <td>0.000000</td>\n",
       "    </tr>\n",
       "    <tr>\n",
       "      <th>10</th>\n",
       "      <td>0</td>\n",
       "      <td>7</td>\n",
       "      <td>7</td>\n",
       "      <td>0.000000</td>\n",
       "    </tr>\n",
       "  </tbody>\n",
       "</table>\n",
       "</div>"
      ],
      "text/plain": [
       "        Survival Count  Death Count  Total Count  Percentage\n",
       "Family                                                      \n",
       "0                  163          374          537   30.353818\n",
       "1                   89           72          161   55.279503\n",
       "2                   59           43          102   57.843137\n",
       "3                   21            8           29   72.413793\n",
       "4                    3           12           15   20.000000\n",
       "5                    3           19           22   13.636364\n",
       "6                    4            8           12   33.333333\n",
       "7                    0            6            6    0.000000\n",
       "10                   0            7            7    0.000000"
      ]
     },
     "execution_count": 36,
     "metadata": {},
     "output_type": "execute_result"
    }
   ],
   "source": [
    "survival_wrt_family_size"
   ]
  },
  {
   "cell_type": "code",
   "execution_count": 37,
   "metadata": {
    "collapsed": false,
    "deletable": true,
    "editable": true
   },
   "outputs": [],
   "source": [
    "survival_wrt_family_size.to_csv('survival_wrt_family_size.csv', sep=',')"
   ]
  }
 ],
 "metadata": {
  "anaconda-cloud": {},
  "kernelspec": {
   "display_name": "Python 2",
   "language": "python",
   "name": "python2"
  },
  "language_info": {
   "codemirror_mode": {
    "name": "ipython",
    "version": 2
   },
   "file_extension": ".py",
   "mimetype": "text/x-python",
   "name": "python",
   "nbconvert_exporter": "python",
   "pygments_lexer": "ipython2",
   "version": "2.7.12"
  }
 },
 "nbformat": 4,
 "nbformat_minor": 0
}
